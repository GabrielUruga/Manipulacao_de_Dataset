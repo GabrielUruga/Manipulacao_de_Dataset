{
 "cells": [
  {
   "cell_type": "markdown",
   "id": "520401a9",
   "metadata": {},
   "source": [
    "### Alteração de ICAO\n",
    "O dataset da ANAC utiliza o codigo ICAO para informar Origem e Destino dos voo.\n",
    "\n",
    "\n",
    "\n",
    "\n",
    "\n",
    "\n",
    "**Método para facilitar intepretação:**\n",
    "\n",
    "* alterar ICAO para o nome da cidade por extenso."
   ]
  },
  {
   "cell_type": "markdown",
   "id": "8543c8ac",
   "metadata": {},
   "source": [
    "### Leitura do arquivo"
   ]
  },
  {
   "cell_type": "code",
   "execution_count": 19,
   "id": "ddc0f718",
   "metadata": {},
   "outputs": [],
   "source": [
    "from pandas import read_csv\n",
    "\n",
    "try:\n",
    "    df = read_csv('dataset_anac.csv')\n",
    "except FileNotFoundError:\n",
    "    print('Arquivo não encontrado')"
   ]
  },
  {
   "cell_type": "markdown",
   "id": "13a2cc11",
   "metadata": {},
   "source": [
    "### Verificação de NA"
   ]
  },
  {
   "cell_type": "code",
   "execution_count": 20,
   "id": "c36cf5bf",
   "metadata": {},
   "outputs": [
    {
     "data": {
      "text/plain": [
       "ANO        0\n",
       "MES        0\n",
       "EMPRESA    0\n",
       "ORIGEM     0\n",
       "DESTINO    0\n",
       "dtype: int64"
      ]
     },
     "execution_count": 20,
     "metadata": {},
     "output_type": "execute_result"
    }
   ],
   "source": [
    "df.isna().sum()"
   ]
  },
  {
   "cell_type": "markdown",
   "id": "e35b3d63",
   "metadata": {},
   "source": [
    "## Lista dos ICAO no dataset"
   ]
  },
  {
   "cell_type": "code",
   "execution_count": 21,
   "id": "508b0aef",
   "metadata": {},
   "outputs": [
    {
     "name": "stdout",
     "output_type": "stream",
     "text": [
      "['SBGR', 'SBBR', 'SBRJ', 'SBPA', 'SBSP', 'SBCT', 'SBCF', 'SBEG', 'SBFZ', 'SBRF', 'SBSV', 'SBBE', 'SBFL', 'SBKP', 'SBGL', 'SBVT', 'SBCY', 'SBGO', 'SBCG', 'SBSL', 'SBSG', 'SBPV', 'SBNF', 'SBMO', 'SBTE', 'SBFI', 'SBJP', 'SBPS', 'SBMQ', 'SBAR', 'SBBV', 'SBUL', 'SBPJ', 'SBRB', 'SBSN', 'SBSR', 'SBLO', 'SBMG', 'SBIZ', 'SBRP', 'SBMA', 'SBIL', 'SBJU', 'SBPL', 'SBCH', 'SBJV', 'SBMK', 'SBFN', 'SBCA', 'SWSI', 'SBJA', 'SBAE', 'SBHT', 'SBTT', 'SBDN', 'SBTF', 'SBPF', 'SBJI', 'SBSI', 'SBQV', 'SBAU', 'SBKG', 'SBCJ', 'SBCX', 'SBZM', 'SBIP', 'SBVC', 'SBDO', 'SBJE', 'SBCZ', 'SBAT', 'SSKW', 'SBCN', 'SBSM', 'SBML', 'SBVH', 'SBPK', 'SBCR', 'SBRD', 'SNBR', 'SWLC', 'SBPB', 'SBCB', 'SBGV', 'SNTF', 'SBTG', 'SBSJ', 'SBMS', 'SBUR', 'SWGN', 'SBDB', 'SBSO', 'SBPG', 'SBUF', 'SBUG', 'SBME', 'SBTD', 'SBVG', 'SBAQ', 'SBNM', 'SWJN', 'SSPB', 'SWHP', 'SBCP', 'SBLJ', 'SWTS', 'SSZW', 'SBIH', 'SWEI', 'SWPI', 'SNVB', 'SWCA', 'SBUY', 'SBBW', 'SBLE', 'SBGU', 'SBFE', 'SWMW', 'SWFX', 'SDNM']\n"
     ]
    }
   ],
   "source": [
    "airports = df['ORIGEM'].value_counts().index.tolist()\n",
    "print(airports)"
   ]
  },
  {
   "cell_type": "markdown",
   "id": "484e6af6",
   "metadata": {},
   "source": [
    "### Alteração do ICAO"
   ]
  },
  {
   "cell_type": "code",
   "execution_count": 22,
   "id": "51457420",
   "metadata": {},
   "outputs": [],
   "source": [
    "df['ORIGEM'].replace(\n",
    "{\n",
    "'SBGR':'Guarulhos','SBBR':'Brasília','SBRJ':'Santos Dummont','SBPA':'Porto Alegre','SBSP':'Congonhas','SBCT':'Curitiba',\n",
    "'SBCF':'Confins','SBEG':'Manaus','SBFZ':'Fortaleza','SBRF':'Recife', 'SBSV':'Salvador', 'SBBE':'Belém', 'SBFL':'Florianópolis', \n",
    "'SBKP':'Campinas', 'SBGL':'Galeão', 'SBVT':'Vitória', 'SBCY':'Cuibá', 'SBGO':'Goiânia', 'SBCG':'Campo Grande', 'SBSL':'São Luis', \n",
    "'SBSG':'São Gonçalo do Amarante', 'SBPV':'Porto Velho','SBNF':'Navagantes', 'SBMO':'Maceió', 'SBTE':'Teresina', 'SBFI':'Foz do Iguaçu', 'SBJP':'João Pessoa', 'SBPS':'Porto Seguro', 'SBMQ':'Macapá', \n",
    "'SBAR':'Aracajú','SBBV':'Boa Vista','SBUL':'Uberlândia', 'SBPJ':'Palmas', 'SBRB':'Rio Branco','SBSN':'Santarém','SBSR':'São José do Rio Preto', 'SBLO':'Londrina', \n",
    "'SBMG':'Maringá', 'SBIZ':'Imperatriz', 'SBRP':'Riberão Preto', 'SBMA':'Marabá', 'SBIL':'Ilhéus', 'SBJU':'Juazeiro do Norte', \n",
    "'SBPL':'Petrolina', 'SBCH':'Chapecó', 'SBJV':'Joinville', 'SBMK':'Monte Carlos', 'SBFN':'Fernando de Noronha', 'SBCA':'Cascavel', \n",
    "'SWSI':'Sinop', 'SBJA':'Jaguaruna','SBAE':'Bauru','SBHT':'Alta Mira','SBTT':'Tabatinga', 'SBDN':'Presidente Prudente', 'SBTF':'Tefé', \n",
    "'SBPF':'Passo Fundo', 'SBJI':'Ji-Paraná', 'SBSI':'Sinop', 'SBQV':'Vitória da Conquista', 'SBAU':'Araçatuba', 'SBKG':'Campina Grande', \n",
    "'SBCJ':'Carajás', 'SBCX':'Caixias do Sul', 'SBZM':'Goianá', 'SBIP':'Ipatinga', 'SBVC':'Vitória da Conquista','SBDO':'Dourados', \n",
    "'SBJE':'Jericoacoara', 'SBCZ':'Cruzeiro do Sul', 'SBAT':'Alta Floresta','SSKW':'Caocal', 'SBCN':'Caldas Novas','SBSM':'Santa Maria', 'SBML':'Marília', \n",
    "'SBVH':'Vilhena','SBPK':'Pelotas', 'SBCR':'Corumbá', 'SBRD':'Rondópolis', 'SNBR':'Barreiras', 'SWLC':'Rio Verde','SBPB':'Parnaíba',  \n",
    "'SBCB':'Cabo Frio','SBGV':'Governador Valadares', 'SNTF':'Teixeira de Freitas', 'SBTG':'Una', 'SBSJ':'São José dos Campos', \n",
    "'SBMS':'Mossoró', 'SBUR':'Uberaba', 'SWGN':'Araguaína', 'SBDB':'Bonito', 'SBSO':'Sorriso','SBPG':'Ponta Grossa','SBUF':'Paulo Afonso', \n",
    "'SBUG':'Uruguaiana', 'SBME':'Macaé', 'SBTD':'Toledo',  'SBVG':'Varginha', 'SBAQ':'Araraquara', 'SBNM':'Santo Ângelo', 'SWJN':'Juína',\n",
    "'SSPB':'Pato Branco','SWHP':'Água Boa', 'SBCP':'Campos dos Goytacazes', 'SBLJ':'Lajes', 'SWTS':'Tangará da Serra', 'SSZW':'Ponta Grossa', \n",
    "'SBIH':'Itaituba', 'SWEI':'Irunepé','SWPI':'Parintins ', 'SNVB':'Valença', 'SWCA':'Carauari', 'SBUY':'Porto Urucu','SBBW':'Barra do Garças ', \n",
    "'SBLE':'Lençóis', 'SBGU':'Guarapuava', 'SBFE':'Feira de Santana','SWMW':' Maués', 'SWFX':'São Félix do Araguaia', 'SDNM':'Nova Mutum', 'SBBW':'Barra do Garças'\n",
    "    \n",
    "}, \n",
    "    inplace=True)\n",
    "\n",
    "df['DESTINO'].replace(\n",
    "    {\n",
    "'SBGR':'Guarulhos','SBBR':'Brasília','SBRJ':'Santos Dummont','SBPA':'Porto Alegre','SBSP':'Congonhas','SBCT':'Curitiba',\n",
    "'SBCF':'Confins','SBEG':'Manaus','SBFZ':'Fortaleza','SBRF':'Recife', 'SBSV':'Salvador', 'SBBE':'Belém', 'SBFL':'Florianópolis', \n",
    "'SBKP':'Campinas', 'SBGL':'Galeão', 'SBVT':'Vitória', 'SBCY':'Cuibá', 'SBGO':'Goiânia', 'SBCG':'Campo Grande', 'SBSL':'São Luis', \n",
    "'SBSG':'São Gonçalo do Amarante', 'SBPV':'Porto Velho','SBNF':'Navagantes', 'SBMO':'Maceió', 'SBTE':'Teresina', 'SBFI':'Foz do Iguaçu', 'SBJP':'João Pessoa', 'SBPS':'Porto Seguro', 'SBMQ':'Macapá', \n",
    "'SBAR':'Aracajú','SBBV':'Boa Vista','SBUL':'Uberlândia', 'SBPJ':'Palmas', 'SBRB':'Rio Branco','SBSN':'Santarém','SBSR':'São José do Rio Preto', 'SBLO':'Londrina', \n",
    "'SBMG':'Maringá', 'SBIZ':'Imperatriz', 'SBRP':'Riberão Preto', 'SBMA':'Marabá', 'SBIL':'Ilhéus', 'SBJU':'Juazeiro do Norte', \n",
    "'SBPL':'Petrolina', 'SBCH':'Chapecó', 'SBJV':'Joinville', 'SBMK':'Monte Carlos', 'SBFN':'Fernando de Noronha', 'SBCA':'Cascavel', \n",
    "'SWSI':'Sinop', 'SBJA':'Jaguaruna','SBAE':'Bauru','SBHT':'Alta Mira','SBTT':'Tabatinga', 'SBDN':'Presidente Prudente', 'SBTF':'Tefé', \n",
    "'SBPF':'Passo Fundo', 'SBJI':'Ji-Paraná', 'SBSI':'Sinop', 'SBQV':'Vitória da Conquista', 'SBAU':'Araçatuba', 'SBKG':'Campina Grande', \n",
    "'SBCJ':'Carajás', 'SBCX':'Caixias do Sul', 'SBZM':'Goianá', 'SBIP':'Ipatinga', 'SBVC':'Vitória da Conquista','SBDO':'Dourados', \n",
    "'SBJE':'Jericoacoara', 'SBCZ':'Cruzeiro do Sul', 'SBAT':'Alta Floresta','SSKW':'Caocal', 'SBCN':'Caldas Novas','SBSM':'Santa Maria', 'SBML':'Marília', \n",
    "'SBVH':'Vilhena','SBPK':'Pelotas', 'SBCR':'Corumbá', 'SBRD':'Rondópolis', 'SNBR':'Barreiras', 'SWLC':'Rio Verde','SBPB':'Parnaíba',  \n",
    "'SBCB':'Cabo Frio','SBGV':'Governador Valadares', 'SNTF':'Teixeira de Freitas', 'SBTG':'Una', 'SBSJ':'São José dos Campos', \n",
    "'SBMS':'Mossoró', 'SBUR':'Uberaba', 'SWGN':'Araguaína', 'SBDB':'Bonito', 'SBSO':'Sorriso','SBPG':'Ponta Grossa','SBUF':'Paulo Afonso', \n",
    "'SBUG':'Uruguaiana', 'SBME':'Macaé', 'SBTD':'Toledo',  'SBVG':'Varginha', 'SBAQ':'Araraquara', 'SBNM':'Santo Ângelo', 'SWJN':'Juína',\n",
    "'SSPB':'Pato Branco','SWHP':'Água Boa', 'SBCP':'Campos dos Goytacazes', 'SBLJ':'Lajes', 'SWTS':'Tangará da Serra', 'SSZW':'Ponta Grossa', \n",
    "'SBIH':'Itaituba', 'SWEI':'Irunepé','SWPI':'Parintins ', 'SNVB':'Valença', 'SWCA':'Carauari', 'SBUY':'Porto Urucu','SBBW':'Barra do Garças ', \n",
    "'SBLE':'Lençóis', 'SBGU':'Guarapuava', 'SBFE':'Feira de Santana','SWMW':' Maués', 'SWFX':'São Félix do Araguaia', 'SDNM':'Nova Mutum', 'SBBW':'Barra do Garças', \n",
    "     \n",
    "    }, \n",
    "    inplace=True)"
   ]
  },
  {
   "cell_type": "markdown",
   "id": "bfa06056",
   "metadata": {},
   "source": [
    "### Amostra "
   ]
  },
  {
   "cell_type": "code",
   "execution_count": 23,
   "id": "04a6bdc3",
   "metadata": {},
   "outputs": [
    {
     "data": {
      "text/html": [
       "<div>\n",
       "<style scoped>\n",
       "    .dataframe tbody tr th:only-of-type {\n",
       "        vertical-align: middle;\n",
       "    }\n",
       "\n",
       "    .dataframe tbody tr th {\n",
       "        vertical-align: top;\n",
       "    }\n",
       "\n",
       "    .dataframe thead th {\n",
       "        text-align: right;\n",
       "    }\n",
       "</style>\n",
       "<table border=\"1\" class=\"dataframe\">\n",
       "  <thead>\n",
       "    <tr style=\"text-align: right;\">\n",
       "      <th></th>\n",
       "      <th>ANO</th>\n",
       "      <th>MES</th>\n",
       "      <th>EMPRESA</th>\n",
       "      <th>ORIGEM</th>\n",
       "      <th>DESTINO</th>\n",
       "    </tr>\n",
       "  </thead>\n",
       "  <tbody>\n",
       "    <tr>\n",
       "      <th>59477</th>\n",
       "      <td>2020</td>\n",
       "      <td>4</td>\n",
       "      <td>TAM</td>\n",
       "      <td>Brasília</td>\n",
       "      <td>Santos Dummont</td>\n",
       "    </tr>\n",
       "    <tr>\n",
       "      <th>94222</th>\n",
       "      <td>2020</td>\n",
       "      <td>4</td>\n",
       "      <td>TAM</td>\n",
       "      <td>Porto Alegre</td>\n",
       "      <td>Salvador</td>\n",
       "    </tr>\n",
       "    <tr>\n",
       "      <th>111258</th>\n",
       "      <td>2020</td>\n",
       "      <td>4</td>\n",
       "      <td>TAM</td>\n",
       "      <td>Salvador</td>\n",
       "      <td>Teresina</td>\n",
       "    </tr>\n",
       "    <tr>\n",
       "      <th>58064</th>\n",
       "      <td>2020</td>\n",
       "      <td>4</td>\n",
       "      <td>TAM</td>\n",
       "      <td>Brasília</td>\n",
       "      <td>João Pessoa</td>\n",
       "    </tr>\n",
       "    <tr>\n",
       "      <th>107979</th>\n",
       "      <td>2020</td>\n",
       "      <td>4</td>\n",
       "      <td>TAM</td>\n",
       "      <td>Congonhas</td>\n",
       "      <td>Santos Dummont</td>\n",
       "    </tr>\n",
       "    <tr>\n",
       "      <th>91024</th>\n",
       "      <td>2020</td>\n",
       "      <td>4</td>\n",
       "      <td>TAM</td>\n",
       "      <td>Navagantes</td>\n",
       "      <td>Confins</td>\n",
       "    </tr>\n",
       "    <tr>\n",
       "      <th>72175</th>\n",
       "      <td>2020</td>\n",
       "      <td>4</td>\n",
       "      <td>TAM</td>\n",
       "      <td>Fortaleza</td>\n",
       "      <td>Curitiba</td>\n",
       "    </tr>\n",
       "    <tr>\n",
       "      <th>11968</th>\n",
       "      <td>2020</td>\n",
       "      <td>4</td>\n",
       "      <td>AZU</td>\n",
       "      <td>Florianópolis</td>\n",
       "      <td>São Luis</td>\n",
       "    </tr>\n",
       "    <tr>\n",
       "      <th>3098</th>\n",
       "      <td>2020</td>\n",
       "      <td>4</td>\n",
       "      <td>AZU</td>\n",
       "      <td>Cascavel</td>\n",
       "      <td>Confins</td>\n",
       "    </tr>\n",
       "    <tr>\n",
       "      <th>87419</th>\n",
       "      <td>2020</td>\n",
       "      <td>4</td>\n",
       "      <td>TAM</td>\n",
       "      <td>Jaguaruna</td>\n",
       "      <td>Congonhas</td>\n",
       "    </tr>\n",
       "    <tr>\n",
       "      <th>40345</th>\n",
       "      <td>2020</td>\n",
       "      <td>4</td>\n",
       "      <td>GLO</td>\n",
       "      <td>Galeão</td>\n",
       "      <td>Manaus</td>\n",
       "    </tr>\n",
       "    <tr>\n",
       "      <th>53334</th>\n",
       "      <td>2020</td>\n",
       "      <td>4</td>\n",
       "      <td>GLO</td>\n",
       "      <td>Vitória</td>\n",
       "      <td>Porto Alegre</td>\n",
       "    </tr>\n",
       "  </tbody>\n",
       "</table>\n",
       "</div>"
      ],
      "text/plain": [
       "         ANO  MES EMPRESA         ORIGEM         DESTINO\n",
       "59477   2020    4     TAM       Brasília  Santos Dummont\n",
       "94222   2020    4     TAM   Porto Alegre        Salvador\n",
       "111258  2020    4     TAM       Salvador        Teresina\n",
       "58064   2020    4     TAM       Brasília     João Pessoa\n",
       "107979  2020    4     TAM      Congonhas  Santos Dummont\n",
       "91024   2020    4     TAM     Navagantes         Confins\n",
       "72175   2020    4     TAM      Fortaleza        Curitiba\n",
       "11968   2020    4     AZU  Florianópolis        São Luis\n",
       "3098    2020    4     AZU       Cascavel         Confins\n",
       "87419   2020    4     TAM      Jaguaruna       Congonhas\n",
       "40345   2020    4     GLO         Galeão          Manaus\n",
       "53334   2020    4     GLO        Vitória    Porto Alegre"
      ]
     },
     "execution_count": 23,
     "metadata": {},
     "output_type": "execute_result"
    }
   ],
   "source": [
    "df.sample(12)"
   ]
  },
  {
   "cell_type": "markdown",
   "id": "b9436759",
   "metadata": {},
   "source": [
    "## Criação de nova coluna\n",
    "Para concatenar as strings das colunas foi utilizado o método CAT() do módulo STR com o separador: **->**\n"
   ]
  },
  {
   "cell_type": "markdown",
   "id": "c1e55424",
   "metadata": {},
   "source": [
    "### Concatenação das strings das colunas Origem e Destino"
   ]
  },
  {
   "cell_type": "code",
   "execution_count": 43,
   "id": "167625d3",
   "metadata": {},
   "outputs": [],
   "source": [
    "df['VOO COMPLETO'] = df['ORIGEM'].str.cat(df['DESTINO'],\n",
    "                                          sep = ' | ')"
   ]
  },
  {
   "cell_type": "markdown",
   "id": "f2c97e42",
   "metadata": {},
   "source": [
    "### Seleção de Colunas"
   ]
  },
  {
   "cell_type": "code",
   "execution_count": 44,
   "id": "439c4f18",
   "metadata": {},
   "outputs": [],
   "source": [
    "df1 = df[['EMPRESA','VOO COMPLETO','ANO']]"
   ]
  },
  {
   "cell_type": "markdown",
   "id": "5e1ad048",
   "metadata": {},
   "source": [
    "###  Amostra"
   ]
  },
  {
   "cell_type": "code",
   "execution_count": 45,
   "id": "23e02085",
   "metadata": {},
   "outputs": [
    {
     "data": {
      "text/html": [
       "<div>\n",
       "<style scoped>\n",
       "    .dataframe tbody tr th:only-of-type {\n",
       "        vertical-align: middle;\n",
       "    }\n",
       "\n",
       "    .dataframe tbody tr th {\n",
       "        vertical-align: top;\n",
       "    }\n",
       "\n",
       "    .dataframe thead th {\n",
       "        text-align: right;\n",
       "    }\n",
       "</style>\n",
       "<table border=\"1\" class=\"dataframe\">\n",
       "  <thead>\n",
       "    <tr style=\"text-align: right;\">\n",
       "      <th></th>\n",
       "      <th>EMPRESA</th>\n",
       "      <th>VOO COMPLETO</th>\n",
       "      <th>ANO</th>\n",
       "    </tr>\n",
       "  </thead>\n",
       "  <tbody>\n",
       "    <tr>\n",
       "      <th>37225</th>\n",
       "      <td>GLO</td>\n",
       "      <td>Cuibá | Fortaleza</td>\n",
       "      <td>2020</td>\n",
       "    </tr>\n",
       "    <tr>\n",
       "      <th>9856</th>\n",
       "      <td>AZU</td>\n",
       "      <td>Manaus | Campinas</td>\n",
       "      <td>2020</td>\n",
       "    </tr>\n",
       "    <tr>\n",
       "      <th>106279</th>\n",
       "      <td>TAM</td>\n",
       "      <td>Congonhas | Florianópolis</td>\n",
       "      <td>2020</td>\n",
       "    </tr>\n",
       "    <tr>\n",
       "      <th>96008</th>\n",
       "      <td>TAM</td>\n",
       "      <td>Porto Velho | São José do Rio Preto</td>\n",
       "      <td>2020</td>\n",
       "    </tr>\n",
       "    <tr>\n",
       "      <th>112314</th>\n",
       "      <td>TAM</td>\n",
       "      <td>Uberlândia | Guarulhos</td>\n",
       "      <td>2020</td>\n",
       "    </tr>\n",
       "    <tr>\n",
       "      <th>40795</th>\n",
       "      <td>GLO</td>\n",
       "      <td>Galeão | Guarulhos</td>\n",
       "      <td>2020</td>\n",
       "    </tr>\n",
       "    <tr>\n",
       "      <th>57248</th>\n",
       "      <td>TAM</td>\n",
       "      <td>Brasília | Guarulhos</td>\n",
       "      <td>2020</td>\n",
       "    </tr>\n",
       "    <tr>\n",
       "      <th>9284</th>\n",
       "      <td>AZU</td>\n",
       "      <td>Manaus | Belém</td>\n",
       "      <td>2020</td>\n",
       "    </tr>\n",
       "    <tr>\n",
       "      <th>104914</th>\n",
       "      <td>TAM</td>\n",
       "      <td>Congonhas | Brasília</td>\n",
       "      <td>2020</td>\n",
       "    </tr>\n",
       "    <tr>\n",
       "      <th>569</th>\n",
       "      <td>AZU</td>\n",
       "      <td>Belém | Curitiba</td>\n",
       "      <td>2020</td>\n",
       "    </tr>\n",
       "    <tr>\n",
       "      <th>85894</th>\n",
       "      <td>TAM</td>\n",
       "      <td>Guarulhos | Salvador</td>\n",
       "      <td>2020</td>\n",
       "    </tr>\n",
       "    <tr>\n",
       "      <th>12094</th>\n",
       "      <td>AZU</td>\n",
       "      <td>Florianópolis | Teresina</td>\n",
       "      <td>2020</td>\n",
       "    </tr>\n",
       "  </tbody>\n",
       "</table>\n",
       "</div>"
      ],
      "text/plain": [
       "       EMPRESA                         VOO COMPLETO   ANO\n",
       "37225      GLO                    Cuibá | Fortaleza  2020\n",
       "9856       AZU                    Manaus | Campinas  2020\n",
       "106279     TAM            Congonhas | Florianópolis  2020\n",
       "96008      TAM  Porto Velho | São José do Rio Preto  2020\n",
       "112314     TAM               Uberlândia | Guarulhos  2020\n",
       "40795      GLO                   Galeão | Guarulhos  2020\n",
       "57248      TAM                 Brasília | Guarulhos  2020\n",
       "9284       AZU                       Manaus | Belém  2020\n",
       "104914     TAM                 Congonhas | Brasília  2020\n",
       "569        AZU                     Belém | Curitiba  2020\n",
       "85894      TAM                 Guarulhos | Salvador  2020\n",
       "12094      AZU             Florianópolis | Teresina  2020"
      ]
     },
     "execution_count": 45,
     "metadata": {},
     "output_type": "execute_result"
    }
   ],
   "source": [
    "df1.sample(12)"
   ]
  }
 ],
 "metadata": {
  "kernelspec": {
   "display_name": "Python 3 (ipykernel)",
   "language": "python",
   "name": "python3"
  },
  "language_info": {
   "codemirror_mode": {
    "name": "ipython",
    "version": 3
   },
   "file_extension": ".py",
   "mimetype": "text/x-python",
   "name": "python",
   "nbconvert_exporter": "python",
   "pygments_lexer": "ipython3",
   "version": "3.9.13"
  }
 },
 "nbformat": 4,
 "nbformat_minor": 5
}
